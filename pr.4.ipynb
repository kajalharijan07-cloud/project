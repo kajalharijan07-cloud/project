{
 "cells": [
  {
   "cell_type": "code",
   "execution_count": 2,
   "id": "a82dceb9-a282-4753-adde-a7dc9e0bfff6",
   "metadata": {},
   "outputs": [
    {
     "name": "stdout",
     "output_type": "stream",
     "text": [
      "Main Menu:\n",
      "1. Input Data\n",
      "2. Display Data Summary (Built-in Functions)\n",
      "3. Calculate Factorial (Recursion)\n",
      "4. Filter Data by Threshold (Lambda Function)\n",
      "5. Sort Data\n",
      "6. Display Dataset Statistics (Return Multiple Values)\n",
      "7. Exit Program\n"
     ]
    },
    {
     "name": "stdin",
     "output_type": "stream",
     "text": [
      "Please enter your choice (1-7):  6\n"
     ]
    },
    {
     "name": "stdout",
     "output_type": "stream",
     "text": [
      "No data! Please input first.\n",
      "Main Menu:\n",
      "1. Input Data\n",
      "2. Display Data Summary (Built-in Functions)\n",
      "3. Calculate Factorial (Recursion)\n",
      "4. Filter Data by Threshold (Lambda Function)\n",
      "5. Sort Data\n",
      "6. Display Dataset Statistics (Return Multiple Values)\n",
      "7. Exit Program\n"
     ]
    },
    {
     "name": "stdin",
     "output_type": "stream",
     "text": [
      "Please enter your choice (1-7):  1\n",
      "Enter data for a 1D array (separated by spaces):  34 12 56 78 43 21 90\n"
     ]
    },
    {
     "name": "stdout",
     "output_type": "stream",
     "text": [
      "Data has been stored successfully!\n",
      "Main Menu:\n",
      "1. Input Data\n",
      "2. Display Data Summary (Built-in Functions)\n",
      "3. Calculate Factorial (Recursion)\n",
      "4. Filter Data by Threshold (Lambda Function)\n",
      "5. Sort Data\n",
      "6. Display Dataset Statistics (Return Multiple Values)\n",
      "7. Exit Program\n"
     ]
    },
    {
     "name": "stdin",
     "output_type": "stream",
     "text": [
      "Please enter your choice (1-7):  2\n"
     ]
    },
    {
     "name": "stdout",
     "output_type": "stream",
     "text": [
      "\n",
      "Data Summary:\n",
      "- Total elements: 7\n",
      "- Minimum value: 12\n",
      "- Maximum value: 90\n",
      "Main Menu:\n",
      "1. Input Data\n",
      "2. Display Data Summary (Built-in Functions)\n",
      "3. Calculate Factorial (Recursion)\n",
      "4. Filter Data by Threshold (Lambda Function)\n",
      "5. Sort Data\n",
      "6. Display Dataset Statistics (Return Multiple Values)\n",
      "7. Exit Program\n"
     ]
    },
    {
     "name": "stdin",
     "output_type": "stream",
     "text": [
      "Please enter your choice (1-7):  3\n",
      "Enter a number:  5\n"
     ]
    },
    {
     "name": "stdout",
     "output_type": "stream",
     "text": [
      "Factorial of 5 is: 120\n",
      "Main Menu:\n",
      "1. Input Data\n",
      "2. Display Data Summary (Built-in Functions)\n",
      "3. Calculate Factorial (Recursion)\n",
      "4. Filter Data by Threshold (Lambda Function)\n",
      "5. Sort Data\n",
      "6. Display Dataset Statistics (Return Multiple Values)\n",
      "7. Exit Program\n"
     ]
    },
    {
     "name": "stdin",
     "output_type": "stream",
     "text": [
      "Please enter your choice (1-7):  50\n"
     ]
    },
    {
     "name": "stdout",
     "output_type": "stream",
     "text": [
      "Invalid choice! Try again.\n",
      "Main Menu:\n",
      "1. Input Data\n",
      "2. Display Data Summary (Built-in Functions)\n",
      "3. Calculate Factorial (Recursion)\n",
      "4. Filter Data by Threshold (Lambda Function)\n",
      "5. Sort Data\n",
      "6. Display Dataset Statistics (Return Multiple Values)\n",
      "7. Exit Program\n"
     ]
    },
    {
     "name": "stdin",
     "output_type": "stream",
     "text": [
      "Please enter your choice (1-7):  6\n"
     ]
    },
    {
     "name": "stdout",
     "output_type": "stream",
     "text": [
      "\n",
      "Dataset Statistics:\n"
     ]
    },
    {
     "ename": "NameError",
     "evalue": "name 'minimum' is not defined",
     "output_type": "error",
     "traceback": [
      "\u001b[1;31m---------------------------------------------------------------------------\u001b[0m",
      "\u001b[1;31mNameError\u001b[0m                                 Traceback (most recent call last)",
      "Cell \u001b[1;32mIn[2], line 98\u001b[0m\n\u001b[0;32m     93\u001b[0m             \u001b[38;5;28mprint\u001b[39m(\u001b[38;5;124m\"\u001b[39m\u001b[38;5;124mInvalid choice! Try again.\u001b[39m\u001b[38;5;124m\"\u001b[39m)\n\u001b[0;32m     97\u001b[0m \u001b[38;5;28;01mif\u001b[39;00m \u001b[38;5;18m__name__\u001b[39m \u001b[38;5;241m==\u001b[39m \u001b[38;5;124m\"\u001b[39m\u001b[38;5;124m__main__\u001b[39m\u001b[38;5;124m\"\u001b[39m:\n\u001b[1;32m---> 98\u001b[0m     main()\n",
      "Cell \u001b[1;32mIn[2], line 81\u001b[0m, in \u001b[0;36mmain\u001b[1;34m()\u001b[0m\n\u001b[0;32m     77\u001b[0m \u001b[38;5;28;01mif\u001b[39;00m arr:\n\u001b[0;32m     78\u001b[0m     \u001b[38;5;66;03m#minimum, maximum = dataset_stats(arr)\u001b[39;00m\n\u001b[0;32m     80\u001b[0m     \u001b[38;5;28mprint\u001b[39m(\u001b[38;5;124m\"\u001b[39m\u001b[38;5;130;01m\\n\u001b[39;00m\u001b[38;5;124mDataset Statistics:\u001b[39m\u001b[38;5;124m\"\u001b[39m)\n\u001b[1;32m---> 81\u001b[0m     \u001b[38;5;28mprint\u001b[39m(\u001b[38;5;124m\"\u001b[39m\u001b[38;5;124m- Minimum value:\u001b[39m\u001b[38;5;124m\"\u001b[39m, minimum)\n\u001b[0;32m     82\u001b[0m     \u001b[38;5;28mprint\u001b[39m(\u001b[38;5;124m\"\u001b[39m\u001b[38;5;124m- maximum value:\u001b[39m\u001b[38;5;124m\"\u001b[39m, maximum)\n\u001b[0;32m     83\u001b[0m     \u001b[38;5;28mprint\u001b[39m(\u001b[38;5;124m\"\u001b[39m\u001b[38;5;124m- sum of all values:\u001b[39m\u001b[38;5;124m\"\u001b[39m,\u001b[38;5;28msum\u001b[39m)\n",
      "\u001b[1;31mNameError\u001b[0m: name 'minimum' is not defined"
     ]
    }
   ],
   "source": [
    "\n",
    "def factorial(n):\n",
    "    if n <= 1:\n",
    "        return 1\n",
    "    return n * factorial(n - 1)\n",
    "\n",
    "\n",
    "def dataset_stats(arr):\n",
    "    if not arr:   \n",
    "        return 0, 0, 0\n",
    "    mean = sum(arr) / len(arr)\n",
    "    even = len([x for x in arr if x % 2 == 0])\n",
    "    odd = len(arr) - even\n",
    "    return mean, even, odd\n",
    "\n",
    "\n",
    "def main():\n",
    "    arr = []\n",
    "    while True:\n",
    "        print(\"Main Menu:\")\n",
    "        print(\"1. Input Data\")\n",
    "        print(\"2. Display Data Summary (Built-in Functions)\")\n",
    "        print(\"3. Calculate Factorial (Recursion)\")\n",
    "        print(\"4. Filter Data by Threshold (Lambda Function)\")\n",
    "        print(\"5. Sort Data\")\n",
    "        print(\"6. Display Dataset Statistics (Return Multiple Values)\")\n",
    "        print(\"7. Exit Program\")\n",
    "\n",
    "        choice = input(\"Please enter your choice (1-7): \").strip()\n",
    "\n",
    "        if choice == \"1\":\n",
    "            try:\n",
    "                arr = list(map(int, input(\"Enter data for a 1D array (separated by spaces): \").split()))\n",
    "                print(\"Data has been stored successfully!\")\n",
    "            except ValueError:\n",
    "                print(\"Invalid input! Please enter integers only.\")\n",
    "\n",
    "        elif choice == \"2\":\n",
    "            if arr:\n",
    "            \n",
    "                print(\"\\nData Summary:\")\n",
    "                print(\"- Total elements:\", len(arr))\n",
    "                print(\"- Minimum value:\", min(arr))\n",
    "                print(\"- Maximum value:\", max(arr))\n",
    "                \n",
    "            else:\n",
    "                print(\"No data! Please input first.\")\n",
    "\n",
    "        elif choice == \"3\":\n",
    "            try:\n",
    "                n = int(input(\"Enter a number: \"))\n",
    "                if n < 0:\n",
    "                    print(\"Factorial not defined for negative numbers!\")\n",
    "                else:\n",
    "                    print(\"Factorial of\", n, \"is:\", factorial(n))\n",
    "            except ValueError:\n",
    "                print(\"Invalid input! Please enter an integer.\")\n",
    "\n",
    "        elif choice == \"4\":\n",
    "            if arr:\n",
    "                try:\n",
    "                    t = int(input(\"Enter threshold value to filter out data above thish value: \"))\n",
    "                    result = list(filter(lambda x: x > t, arr))\n",
    "                    print(\"Filtered Data:\", result)\n",
    "                except ValueError:\n",
    "                    print(\"Invalid input! Please enter an integer.\")\n",
    "            else:\n",
    "                print(\"No data! Please input first.\")\n",
    "\n",
    "        elif choice == \"5\":\n",
    "            if arr:\n",
    "                print(\"Ascending:\", sorted(arr))\n",
    "                print(\"Descending:\", sorted(arr, reverse=True))\n",
    "            else:\n",
    "                print(\"No data! Please input first.\")\n",
    "\n",
    "        elif choice == \"6\":\n",
    "            if arr:\n",
    "                 minimum, maximum = dataset_stats(arr)\n",
    "                \n",
    "                print(\"\\nDataset Statistics:\")\n",
    "                print(\"- Minimum value:\", minimum)\n",
    "                print(\"- maximum value:\", maximum)\n",
    "                print(\"- sum of all values:\",sum)\n",
    "                print(\"-average value:\", average)\n",
    "            else:\n",
    "                print(\"No data! Please input first.\")\n",
    "\n",
    "        elif choice == \"7\":\n",
    "            print(\"Exiting program... Goodbye!\")\n",
    "            break\n",
    "\n",
    "        else:\n",
    "            print(\"Invalid choice! Try again.\")\n",
    "\n",
    "\n",
    "\n",
    "if __name__ == \"__main__\":\n",
    "    main()\n"
   ]
  },
  {
   "cell_type": "code",
   "execution_count": null,
   "id": "acec81ac-a855-416e-8b48-a7b7e36acd1c",
   "metadata": {},
   "outputs": [],
   "source": []
  }
 ],
 "metadata": {
  "kernelspec": {
   "display_name": "Python [conda env:base] *",
   "language": "python",
   "name": "conda-base-py"
  },
  "language_info": {
   "codemirror_mode": {
    "name": "ipython",
    "version": 3
   },
   "file_extension": ".py",
   "mimetype": "text/x-python",
   "name": "python",
   "nbconvert_exporter": "python",
   "pygments_lexer": "ipython3",
   "version": "3.13.5"
  }
 },
 "nbformat": 4,
 "nbformat_minor": 5
}
