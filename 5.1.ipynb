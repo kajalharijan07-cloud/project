{
 "cells": [
  {
   "cell_type": "code",
   "execution_count": 2,
   "id": "0c8ab0a1-6442-489f-bebb-f8cf8edb6a1b",
   "metadata": {},
   "outputs": [
    {
     "name": "stdout",
     "output_type": "stream",
     "text": [
      "name:kajal,age:21\n",
      "name:richard,age:26\n"
     ]
    }
   ],
   "source": [
    "class preson:\n",
    "    def __init__(self,name,age):\n",
    "        self.name=name\n",
    "        self.age=age\n",
    "    def dispaly (self):\n",
    "       print(f\"name:{self.name},age:{self.age}\")\n",
    "p1=preson(\"kajal\",21)\n",
    "p2=preson(\"richard\",26)\n",
    "p1.dispaly()\n",
    "p2.dispaly()\n",
    "\n",
    "                     \n",
    "        "
   ]
  },
  {
   "cell_type": "code",
   "execution_count": 3,
   "id": "7d486a71-b732-4f3d-ba08-1a2588656935",
   "metadata": {},
   "outputs": [
    {
     "name": "stdout",
     "output_type": "stream",
     "text": [
      "initial count: 0\n",
      "after increment: 1\n",
      "after increment: 2\n"
     ]
    }
   ],
   "source": [
    "class counter:\n",
    "    def __init__(self):\n",
    "        self.count=0\n",
    "        print(\"initial count:\",self.count)\n",
    "c=counter()\n",
    "c.count+=1\n",
    "print(\"after increment:\",c.count)\n",
    "c.count+=1\n",
    "print(\"after increment:\",c.count)\n"
   ]
  },
  {
   "cell_type": "code",
   "execution_count": 7,
   "id": "457d3bde-2a76-4db2-b833-d75f821ad20e",
   "metadata": {},
   "outputs": [
    {
     "name": "stdout",
     "output_type": "stream",
     "text": [
      "works correctly with self\n"
     ]
    }
   ],
   "source": [
    "class demo:\n",
    "    def show():\n",
    "        print(\"thish will give error because 'self' is missing\")\n",
    "class demo2:\n",
    "    def show(self):\n",
    "        print(\"works correctly with self\")\n",
    "d=demo2()\n",
    "d.show()\n",
    "        "
   ]
  },
  {
   "cell_type": "code",
   "execution_count": 8,
   "id": "484efcb9-acfb-439f-8fb4-ab6d37113d7b",
   "metadata": {},
   "outputs": [
    {
     "name": "stdout",
     "output_type": "stream",
     "text": [
      "title:python basics,author:guido\n"
     ]
    }
   ],
   "source": [
    "class book:\n",
    "    def __init__(self):\n",
    "        self.title=\"\"\n",
    "        self.author=\"\"\n",
    "    def set_details(self,title,author):\n",
    "        self.__title=title\n",
    "        self.__author=author\n",
    "    def get_details(self):\n",
    "        print(f\"title:{self.__title},author:{self.__author}\")\n",
    "b=book()\n",
    "b.set_details(\"python basics\",\"guido\")\n",
    "b.get_details()\n",
    "                 "
   ]
  },
  {
   "cell_type": "code",
   "execution_count": 11,
   "id": "82b76e65-c364-406b-9a85-7fd3c5829ece",
   "metadata": {},
   "outputs": [
    {
     "name": "stdout",
     "output_type": "stream",
     "text": [
      "initial balance: 0\n",
      "balance: 500\n",
      "balance: 300\n"
     ]
    }
   ],
   "source": [
    "class account:\n",
    "    def __init__(self):\n",
    "        self.__balance=0\n",
    "        print(\"initial balance:\",self.__balance)\n",
    "a=account()\n",
    "a._account__balance+=500\n",
    "print(\"balance:\",a._account__balance)\n",
    "a._account__balance-=200\n",
    "print(\"balance:\",a._account__balance)\n"
   ]
  },
  {
   "cell_type": "code",
   "execution_count": 12,
   "id": "eeb6afdb-449a-4dd7-96c1-e2956943bbea",
   "metadata": {},
   "outputs": [
    {
     "name": "stdout",
     "output_type": "stream",
     "text": [
      "Age: 20\n",
      "Age must be greater than 0\n"
     ]
    }
   ],
   "source": [
    "class Person:\n",
    "    def __init__(self, age):\n",
    "        if age > 0:\n",
    "            self.age = age\n",
    "            print(\"Age:\", self.age)\n",
    "        else:\n",
    "            print(\"Age must be greater than 0\")\n",
    "\n",
    "p1 = Person(20)\n",
    "p2 = Person(-5)\n"
   ]
  },
  {
   "cell_type": "code",
   "execution_count": 13,
   "id": "7619720a-2aa9-4ecd-b61c-a17374cfafe2",
   "metadata": {},
   "outputs": [
    {
     "name": "stdout",
     "output_type": "stream",
     "text": [
      "Name: Rohan  Average: 85.0\n",
      "Grade: B\n"
     ]
    }
   ],
   "source": [
    "class Student:\n",
    "    def __init__(self, name, m1, m2, m3):\n",
    "        avg = (m1 + m2 + m3) / 3\n",
    "        print(\"Name:\", name, \" Average:\", avg)\n",
    "        if avg >= 90:\n",
    "            print(\"Grade: A\")\n",
    "        elif avg >= 75:\n",
    "            print(\"Grade: B\")\n",
    "        elif avg >= 50:\n",
    "            print(\"Grade: C\")\n",
    "        else:\n",
    "            print(\"Grade: Fail\")\n",
    "\n",
    "s = Student(\"Rohan\", 85, 92, 78)\n"
   ]
  },
  {
   "cell_type": "code",
   "execution_count": null,
   "id": "4a9c4ae0-55f1-4ec2-9986-5858aeb3273b",
   "metadata": {},
   "outputs": [],
   "source": []
  }
 ],
 "metadata": {
  "kernelspec": {
   "display_name": "Python [conda env:base] *",
   "language": "python",
   "name": "conda-base-py"
  },
  "language_info": {
   "codemirror_mode": {
    "name": "ipython",
    "version": 3
   },
   "file_extension": ".py",
   "mimetype": "text/x-python",
   "name": "python",
   "nbconvert_exporter": "python",
   "pygments_lexer": "ipython3",
   "version": "3.13.5"
  }
 },
 "nbformat": 4,
 "nbformat_minor": 5
}
