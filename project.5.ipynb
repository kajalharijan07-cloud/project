{
 "cells": [
  {
   "cell_type": "code",
   "execution_count": 3,
   "id": "83837066-ddcf-4f23-9c1f-9ab7c959ee84",
   "metadata": {},
   "outputs": [
    {
     "name": "stdout",
     "output_type": "stream",
     "text": [
      "\n",
      "Choose an operation:\n",
      "1. Create a Person\n",
      "2. Create an Employee\n",
      "3. Create a Manager\n",
      "4. Show Details (Only Employees)\n",
      "5. Exit\n"
     ]
    },
    {
     "name": "stdin",
     "output_type": "stream",
     "text": [
      "Enter your choice:  4\n"
     ]
    },
    {
     "name": "stdout",
     "output_type": "stream",
     "text": [
      "\n",
      "--- Showing Employee Details Only ---\n",
      "\n",
      "Choose an operation:\n",
      "1. Create a Person\n",
      "2. Create an Employee\n",
      "3. Create a Manager\n",
      "4. Show Details (Only Employees)\n",
      "5. Exit\n"
     ]
    },
    {
     "name": "stdin",
     "output_type": "stream",
     "text": [
      "Enter your choice:  2\n",
      "Enter Name:  jane smith\n",
      "Enter Age:  28\n",
      "Enter Employee ID:  50000\n",
      "Enter Salary:  50000\n"
     ]
    },
    {
     "name": "stdout",
     "output_type": "stream",
     "text": [
      "Employee created with name: jane smith, age: 28, ID: 50000, and salary: $50000.0.\n",
      "\n",
      "Choose an operation:\n",
      "1. Create a Person\n",
      "2. Create an Employee\n",
      "3. Create a Manager\n",
      "4. Show Details (Only Employees)\n",
      "5. Exit\n"
     ]
    },
    {
     "name": "stdin",
     "output_type": "stream",
     "text": [
      "Enter your choice:  5\n"
     ]
    },
    {
     "name": "stdout",
     "output_type": "stream",
     "text": [
      "Exiting program...\n"
     ]
    }
   ],
   "source": [
    "# Person -> Employee -> Manager (Inheritance Example)\n",
    "\n",
    "class Person:\n",
    "    def __init__(self, name, age):\n",
    "        self.name = name\n",
    "        self.age = age\n",
    "    \n",
    "    def show_details(self):\n",
    "        print(f\"Person created with name: {self.name}, age: {self.age}.\")\n",
    "\n",
    "\n",
    "class Employee(Person):\n",
    "    def __init__(self, name, age, emp_id, salary):\n",
    "        super().__init__(name, age)\n",
    "        self.emp_id = emp_id\n",
    "        self.salary = salary\n",
    "    \n",
    "    def show_details(self):\n",
    "        print(f\"Employee created with name: {self.name}, age: {self.age}, \"\n",
    "              f\"ID: {self.emp_id}, and salary: ${float(self.salary)}.\")\n",
    "\n",
    "\n",
    "class Manager(Employee):\n",
    "    def __init__(self, name, age, emp_id, salary, department):\n",
    "        super().__init__(name, age, emp_id, salary)\n",
    "        self.department = department\n",
    "    \n",
    "    def show_details(self):\n",
    "        print(f\"Manager created with name: {self.name}, age: {self.age}, \"\n",
    "              f\"ID: {self.emp_id}, salary: ${float(self.salary)}, \"\n",
    "              f\"and department: {self.department}.\")\n",
    "def main():\n",
    "    objects = []   \n",
    "    while True:\n",
    "        print(\"\\nChoose an operation:\")\n",
    "        print(\"1. Create a Person\")\n",
    "        print(\"2. Create an Employee\")\n",
    "        print(\"3. Create a Manager\")\n",
    "        print(\"4. Show Details (Only Employees)\")\n",
    "        print(\"5. Exit\")\n",
    "        \n",
    "        choice = input(\"Enter your choice: \")\n",
    "        \n",
    "        if choice == \"1\":\n",
    "            name = input(\"Enter Name: \")\n",
    "            age = int(input(\"Enter Age: \"))\n",
    "            obj = Person(name, age)\n",
    "            obj.show_details()\n",
    "            objects.append(obj)\n",
    "        \n",
    "        elif choice == \"2\":\n",
    "            name = input(\"Enter Name: \")\n",
    "            age = int(input(\"Enter Age: \"))\n",
    "            emp_id = input(\"Enter Employee ID: \")\n",
    "            salary = float(input(\"Enter Salary: \"))\n",
    "            obj = Employee(name, age, emp_id, salary)\n",
    "            obj.show_details()\n",
    "            objects.append(obj)\n",
    "        \n",
    "        elif choice == \"3\":\n",
    "            name = input(\"Enter Name: \")\n",
    "            age = int(input(\"Enter Age: \"))\n",
    "            emp_id = input(\"Enter Employee ID: \")\n",
    "            salary = float(input(\"Enter Salary: \"))\n",
    "            dept = input(\"Enter Department: \")\n",
    "            obj = Manager(name, age, emp_id, salary, dept)\n",
    "            obj.show_details()\n",
    "            objects.append(obj)\n",
    "        \n",
    "        elif choice == \"4\":\n",
    "            print(\"\\n--- Showing Employee Details Only ---\")\n",
    "            for obj in objects:\n",
    "                if isinstance(obj, Employee) and not isinstance(obj, Manager):\n",
    "                    obj.show_details()\n",
    "        \n",
    "        elif choice == \"5\":\n",
    "            print(\"Exiting program...goodbye!\")\n",
    "            break\n",
    "        \n",
    "        else:\n",
    "            print(\"Invalid choice! Please try again.\")\n",
    "\n",
    "\n",
    "\n",
    "if __name__ == \"__main__\":\n",
    "    main\n"
   ]
  },
  {
   "cell_type": "code",
   "execution_count": null,
   "id": "ab01e260-5cf2-4042-91f1-7dcf741354ee",
   "metadata": {},
   "outputs": [],
   "source": []
  }
 ],
 "metadata": {
  "kernelspec": {
   "display_name": "Python [conda env:base] *",
   "language": "python",
   "name": "conda-base-py"
  },
  "language_info": {
   "codemirror_mode": {
    "name": "ipython",
    "version": 3
   },
   "file_extension": ".py",
   "mimetype": "text/x-python",
   "name": "python",
   "nbconvert_exporter": "python",
   "pygments_lexer": "ipython3",
   "version": "3.13.5"
  }
 },
 "nbformat": 4,
 "nbformat_minor": 5
}
