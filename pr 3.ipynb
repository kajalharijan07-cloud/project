{
 "cells": [
  {
   "cell_type": "code",
   "execution_count": null,
   "id": "24d1ca4f-3bab-44f4-bb45-2e48dedaa6c3",
   "metadata": {},
   "outputs": [],
   "source": []
  },
  {
   "cell_type": "code",
   "execution_count": 3,
   "id": "24685d06-809d-4b11-af3a-761522cbe750",
   "metadata": {},
   "outputs": [
    {
     "name": "stdout",
     "output_type": "stream",
     "text": [
      "Welcome to Student Data Organizer!\n",
      "This program helps to manage student records using Python collections.\n",
      "\n",
      "\n",
      "--- MENU ---\n",
      "1. Add Student\n",
      "2. Display All Students\n",
      "3. Update Student Information\n",
      "4. Delete Student\n",
      "5. Display Subjects Offered\n",
      "6. Exit\n"
     ]
    },
    {
     "name": "stdin",
     "output_type": "stream",
     "text": [
      "Enter your choice:  1\n",
      "Enter Name:  alice\n",
      "Enter Age:  20\n",
      "Enter Grade:  b+\n",
      "Enter Subjects (comma separated):  math\n",
      "Enter Student ID:  101\n",
      "Enter Date of Birth (DD-MM-YYYY):  2002-05-14\n"
     ]
    },
    {
     "name": "stdout",
     "output_type": "stream",
     "text": [
      "Student Added Successfully!\n",
      "\n",
      "--- MENU ---\n",
      "1. Add Student\n",
      "2. Display All Students\n",
      "3. Update Student Information\n",
      "4. Delete Student\n",
      "5. Display Subjects Offered\n",
      "6. Exit\n"
     ]
    },
    {
     "name": "stdin",
     "output_type": "stream",
     "text": [
      "Enter your choice:  2\n"
     ]
    },
    {
     "name": "stdout",
     "output_type": "stream",
     "text": [
      "\n",
      "--- Student Records ---\n",
      "ID: 101 | Name: alice | Age: 20 | Grade: b+ | DOB: 2002-05-14 | Subjects: math\n",
      "\n",
      "--- MENU ---\n",
      "1. Add Student\n",
      "2. Display All Students\n",
      "3. Update Student Information\n",
      "4. Delete Student\n",
      "5. Display Subjects Offered\n",
      "6. Exit\n"
     ]
    },
    {
     "name": "stdin",
     "output_type": "stream",
     "text": [
      "Enter your choice:  3\n",
      "Enter Student ID to update:  101\n"
     ]
    },
    {
     "name": "stdout",
     "output_type": "stream",
     "text": [
      "1. Update Age\n",
      "2. Update Subjects\n"
     ]
    },
    {
     "name": "stdin",
     "output_type": "stream",
     "text": [
      "Enter option:  1\n",
      "Enter New Age:  19\n"
     ]
    },
    {
     "name": "stdout",
     "output_type": "stream",
     "text": [
      "Age Updated Successfully!\n",
      "\n",
      "--- MENU ---\n",
      "1. Add Student\n",
      "2. Display All Students\n",
      "3. Update Student Information\n",
      "4. Delete Student\n",
      "5. Display Subjects Offered\n",
      "6. Exit\n"
     ]
    },
    {
     "name": "stdin",
     "output_type": "stream",
     "text": [
      "Enter your choice:  4\n",
      "Enter Student ID to delete:  101\n"
     ]
    },
    {
     "name": "stdout",
     "output_type": "stream",
     "text": [
      "Student Deleted Successfully!\n",
      "\n",
      "--- MENU ---\n",
      "1. Add Student\n",
      "2. Display All Students\n",
      "3. Update Student Information\n",
      "4. Delete Student\n",
      "5. Display Subjects Offered\n",
      "6. Exit\n"
     ]
    },
    {
     "name": "stdin",
     "output_type": "stream",
     "text": [
      "Enter your choice:  5\n"
     ]
    },
    {
     "name": "stdout",
     "output_type": "stream",
     "text": [
      "All Unique Subjects Offered: set()\n",
      "\n",
      "--- MENU ---\n",
      "1. Add Student\n",
      "2. Display All Students\n",
      "3. Update Student Information\n",
      "4. Delete Student\n",
      "5. Display Subjects Offered\n",
      "6. Exit\n"
     ]
    },
    {
     "name": "stdin",
     "output_type": "stream",
     "text": [
      "Enter your choice:  6\n"
     ]
    },
    {
     "name": "stdout",
     "output_type": "stream",
     "text": [
      "Thank you for using Student Data Organizer!\n"
     ]
    }
   ],
   "source": [
    "# Project: Collection Manipulator (Student Data Organizer)\n",
    "\n",
    "print(\"Welcome to Student Data Organizer!\")\n",
    "print(\"This program helps to manage student records using Python collections.\\n\")\n",
    "\n",
    "# All students will be stored in a list\n",
    "students = []\n",
    "\n",
    "while True:\n",
    "    print(\"--- MENU ---\")\n",
    "    print(\"1. Add Student\")\n",
    "    print(\"2. Display All Students\")\n",
    "    print(\"3. Update Student Information\")\n",
    "    print(\"4. Delete Student\")\n",
    "    print(\"5. Display Subjects Offered\")\n",
    "    print(\"6. Exit\")\n",
    "\n",
    "    choice = input(\"Enter your choice: \")\n",
    "\n",
    "    if choice == \"1\":   # Add Student\n",
    "        name = input(\"Enter Name: \")\n",
    "        age = int(input(\"Enter Age: \"))\n",
    "        grade = input(\"Enter Grade: \")\n",
    "        subjects = input(\"Enter Subjects (comma separated): \").split(\",\")\n",
    "        subjects_set = set(subjects)  # using Set to store unique subjects\n",
    "        sid = input(\"Enter Student ID: \")\n",
    "        dob = input(\"Enter Date of Birth (DD-MM-YYYY): \")\n",
    "\n",
    "        # ID and DOB as tuple\n",
    "        id_dob = (sid, dob)\n",
    "\n",
    "        # Store in dictionary\n",
    "        student = {\n",
    "            \"id_dob\": id_dob,\n",
    "            \"name\": name,\n",
    "            \"age\": age,\n",
    "            \"grade\": grade,\n",
    "            \"subjects\": subjects_set\n",
    "        }\n",
    "\n",
    "        students.append(student)\n",
    "        print(\"Student Added Successfully!\")\n",
    "\n",
    "    elif choice == \"2\":   # Display All Students\n",
    "        if not students:\n",
    "            print(\"No student records available.\")\n",
    "        else:\n",
    "            print(\"\\n--- Student Records ---\")\n",
    "            for s in students:\n",
    "                print(f\"ID: {s['id_dob'][0]} | Name: {s['name']} | Age: {s['age']} | \"\n",
    "                      f\"Grade: {s['grade']} | DOB: {s['id_dob'][1]} | Subjects: {', '.join(s['subjects'])}\")\n",
    "\n",
    "    elif choice == \"3\":   # Update Student Information\n",
    "        sid = input(\"Enter Student ID to update: \")\n",
    "        found = False\n",
    "        for s in students:\n",
    "            if s['id_dob'][0] == sid:\n",
    "                found = True\n",
    "                print(\"1. Update Age\\n2. Update Subjects\")\n",
    "                opt = input(\"Enter option: \")\n",
    "                if opt == \"1\":\n",
    "                    new_age = int(input(\"Enter New Age: \"))\n",
    "                    s[\"age\"] = new_age\n",
    "                    print(\"Age Updated Successfully!\")\n",
    "                elif opt == \"2\":\n",
    "                    new_subjects = input(\"Enter New Subjects (comma separated): \").split(\",\")\n",
    "                    s[\"subjects\"] = set(new_subjects)  # mutable update\n",
    "                    print(\"Subjects Updated Successfully!\")\n",
    "        if not found:\n",
    "            print(\"Student ID not found!\")\n",
    "\n",
    "    elif choice == \"4\":   # Delete Student\n",
    "        sid = input(\"Enter Student ID to delete: \")\n",
    "        for i in range(len(students)):\n",
    "            if students[i]['id_dob'][0] == sid:\n",
    "                del students[i]   # using del keyword\n",
    "                print(\"Student Deleted Successfully!\")\n",
    "                break\n",
    "        else:\n",
    "            print(\"Student ID not found!\")\n",
    "\n",
    "    elif choice == \"5\":   # Display Subjects Offered\n",
    "        all_subjects = set()   # set to store unique subjects\n",
    "        for s in students:\n",
    "            all_subjects = all_subjects.union(s[\"subjects\"])\n",
    "        print(\"All Unique Subjects Offered:\", all_subjects)\n",
    "\n",
    "    elif choice == \"6\":   # Exit\n",
    "        print(\"Thank you for using Student Data Organizer!\")\n",
    "        break\n",
    "\n",
    "    else:\n",
    "        print(\"Invalid choice! Please try again.\")\n"
   ]
  },
  {
   "cell_type": "code",
   "execution_count": null,
   "id": "0f8ca778-134e-4450-9252-d8b5c71b9b2a",
   "metadata": {},
   "outputs": [],
   "source": []
  },
  {
   "cell_type": "code",
   "execution_count": null,
   "id": "ba2ecf7d-b1cb-4294-8f6e-5233a38830cc",
   "metadata": {},
   "outputs": [],
   "source": []
  },
  {
   "cell_type": "code",
   "execution_count": null,
   "id": "4f975028-6dcc-4474-9d3c-a5a11f8c47fb",
   "metadata": {},
   "outputs": [],
   "source": []
  },
  {
   "cell_type": "code",
   "execution_count": null,
   "id": "a1711646-4901-460c-a600-e08973fe474e",
   "metadata": {},
   "outputs": [],
   "source": []
  },
  {
   "cell_type": "code",
   "execution_count": null,
   "id": "75b71bc7-beb9-4616-912d-6b896596b208",
   "metadata": {},
   "outputs": [],
   "source": []
  },
  {
   "cell_type": "code",
   "execution_count": null,
   "id": "87c31b68-9a8a-448c-b614-4c87884f716f",
   "metadata": {},
   "outputs": [],
   "source": []
  },
  {
   "cell_type": "code",
   "execution_count": null,
   "id": "d4a7bb11-f052-4375-b6fd-a65905a3183b",
   "metadata": {},
   "outputs": [],
   "source": []
  },
  {
   "cell_type": "code",
   "execution_count": null,
   "id": "4a558217-6b85-4eba-a05c-0d57d37d8f0c",
   "metadata": {},
   "outputs": [],
   "source": []
  },
  {
   "cell_type": "code",
   "execution_count": null,
   "id": "4b021001-49a1-44d5-a51e-4b90ac6d6300",
   "metadata": {},
   "outputs": [],
   "source": []
  },
  {
   "cell_type": "code",
   "execution_count": null,
   "id": "a1d8d5ea-57d3-4cb3-90f1-b1f43e3890d4",
   "metadata": {},
   "outputs": [],
   "source": []
  }
 ],
 "metadata": {
  "kernelspec": {
   "display_name": "Python [conda env:base] *",
   "language": "python",
   "name": "conda-base-py"
  },
  "language_info": {
   "codemirror_mode": {
    "name": "ipython",
    "version": 3
   },
   "file_extension": ".py",
   "mimetype": "text/x-python",
   "name": "python",
   "nbconvert_exporter": "python",
   "pygments_lexer": "ipython3",
   "version": "3.13.5"
  }
 },
 "nbformat": 4,
 "nbformat_minor": 5
}
