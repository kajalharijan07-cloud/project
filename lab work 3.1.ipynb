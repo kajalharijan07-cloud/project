{
 "cells": [
  {
   "cell_type": "code",
   "execution_count": 6,
   "id": "c143aff1-52ea-4ba5-9065-50c23c3dab3d",
   "metadata": {},
   "outputs": [
    {
     "name": "stdin",
     "output_type": "stream",
     "text": [
      "enter first name: kajal\n",
      "enter last name: harijan\n"
     ]
    },
    {
     "name": "stdout",
     "output_type": "stream",
     "text": [
      "hello kajal,harijan\n"
     ]
    }
   ],
   "source": [
    "frist=input(\"enter first name:\")\n",
    "last=input(\"enter last name:\")\n",
    "print(\"hello\", frist +\",\"+ last)\n"
   ]
  },
  {
   "cell_type": "code",
   "execution_count": 4,
   "id": "87a2ffee-b731-4ab8-a818-76e7596cec1c",
   "metadata": {},
   "outputs": [
    {
     "name": "stdout",
     "output_type": "stream",
     "text": [
      "the price of apple is 5.5 dollars.\n"
     ]
    }
   ],
   "source": [
    "item=\"apple\"\n",
    "price=5.50\n",
    "print(f\"the price of {item} is {price} dollars.\")\n"
   ]
  },
  {
   "cell_type": "code",
   "execution_count": 5,
   "id": "951a18d2-0bdd-470f-a84f-a013d9fdce20",
   "metadata": {},
   "outputs": [
    {
     "name": "stdin",
     "output_type": "stream",
     "text": [
      "enter a string: python\n"
     ]
    },
    {
     "name": "stdout",
     "output_type": "stream",
     "text": [
      "reversed string: nohtyp\n",
      "it is not a palindrome\n"
     ]
    }
   ],
   "source": [
    "s=input(\"enter a string:\")\n",
    "rev=s[::-1]\n",
    "print(\"reversed string:\",rev)\n",
    "if s == rev:\n",
    "    print(\"it is a palindrome\")\n",
    "else:\n",
    "    print(\"it is not a palindrome\")\n",
    "    "
   ]
  },
  {
   "cell_type": "code",
   "execution_count": 2,
   "id": "642d11b4-aa59-41ae-9075-b3094c796aed",
   "metadata": {},
   "outputs": [
    {
     "name": "stdin",
     "output_type": "stream",
     "text": [
      "enter a string: python\n"
     ]
    },
    {
     "name": "stdout",
     "output_type": "stream",
     "text": [
      "uppercase: PYTHON\n",
      "lowercase: python\n",
      "title case: Python\n"
     ]
    }
   ],
   "source": [
    "s=input(\"enter a string:\")\n",
    "print(\"uppercase:\",s.upper())\n",
    "print(\"lowercase:\",s.lower())\n",
    "print(\"title case:\",s.title())\n"
   ]
  },
  {
   "cell_type": "code",
   "execution_count": 6,
   "id": "38b6297d-a6de-472b-9ba9-ad062ea743be",
   "metadata": {},
   "outputs": [
    {
     "name": "stdout",
     "output_type": "stream",
     "text": [
      "21\n",
      "machine learning and artificial intelligence are trending\n",
      "3\n"
     ]
    }
   ],
   "source": [
    "s=\"machine learning and AI are trending\"\n",
    "pos=s.find(\"AI\")\n",
    "print(pos)\n",
    "s2=s.replace(\"AI\",\"artificial intelligence\")\n",
    "print(s2)\n",
    "text=\"data data mining and big data\"\n",
    "count=text.count(\"data\")\n",
    "print(count)\n"
   ]
  },
  {
   "cell_type": "code",
   "execution_count": 7,
   "id": "fb855b2f-6dad-4e3c-b051-b6f23e364366",
   "metadata": {},
   "outputs": [
    {
     "name": "stdout",
     "output_type": "stream",
     "text": [
      "['apple', 'banana', 'grapes']\n",
      "python is awesome\n",
      "line one\n",
      "line two\n",
      "line three\n"
     ]
    }
   ],
   "source": [
    "fruits=\"apple,banana,grapes\".split(\",\")\n",
    "print(fruits)\n",
    "words=[\"python\",\"is\",\"awesome\"]\n",
    "print(\" \".join(words))\n",
    "multi=\"line one\\nline two\\nline three\"\n",
    "for line in multi.split(\"\\n\"):\n",
    "    print(line)\n",
    "    "
   ]
  },
  {
   "cell_type": "code",
   "execution_count": 8,
   "id": "bb56757a-1680-4c0b-9bd5-c41a592dfcaf",
   "metadata": {},
   "outputs": [
    {
     "name": "stdout",
     "output_type": "stream",
     "text": [
      "True\n",
      "True\n",
      "datascience\n",
      "nohtyp\n"
     ]
    }
   ],
   "source": [
    "s=\"hello and welcome world\"\n",
    "print(s.startswith(\"hello\"))\n",
    "print(s.endswith(\"world\"))\n",
    "s2=\"data123#science!\"\n",
    "print(\"\".join(ch for ch in s2 if ch.isalpha()))\n",
    "print(\"python\"[::-1])\n"
   ]
  },
  {
   "cell_type": "code",
   "execution_count": 9,
   "id": "667ca919-228f-4be9-8a17-bc76eab8df22",
   "metadata": {},
   "outputs": [
    {
     "name": "stdout",
     "output_type": "stream",
     "text": [
      "second fruit: banana\n",
      "last fruit: grapes\n",
      "final list: ['orange', 'mange', 'grapes', 'cherry', 'banana']\n"
     ]
    }
   ],
   "source": [
    "#lab work 3.2\n",
    "fruits=[\"apple\",\"banana\",\"cherry\",\"orange\",\"grapes\"]\n",
    "print(\"second fruit:\",fruits[1])\n",
    "print(\"last fruit:\",fruits[-1])\n",
    "fruits.append(\"mange\")\n",
    "fruits.pop(0)\n",
    "fruits.sort()\n",
    "fruits.reverse()\n",
    "print(\"final list:\",fruits)\n"
   ]
  },
  {
   "cell_type": "code",
   "execution_count": 10,
   "id": "509d4dc1-4a84-4a8c-940a-bdaa38d151c6",
   "metadata": {},
   "outputs": [
    {
     "name": "stdout",
     "output_type": "stream",
     "text": [
      "third item: 30\n",
      "tuples cannot be changed(immutable).\n"
     ]
    }
   ],
   "source": [
    "numbers=(10,20,30,40,50)\n",
    "print(\"third item:\",numbers[2])\n",
    "print(\"tuples cannot be changed(immutable).\")\n"
   ]
  },
  {
   "cell_type": "code",
   "execution_count": 11,
   "id": "92d78e55-ea5c-4cc5-b305-f2e2d4d944f9",
   "metadata": {},
   "outputs": [
    {
     "name": "stdout",
     "output_type": "stream",
     "text": [
      "changed list: [100, 2, 3]\n",
      "error occurs for tuple because tuple is immutable.\n"
     ]
    }
   ],
   "source": [
    "list1=[1,2,3]\n",
    "tuple1=(1,2,3)\n",
    "list1[0]=100\n",
    "print(\"changed list:\",list1)\n",
    "print(\"error occurs for tuple because tuple is immutable.\")\n"
   ]
  },
  {
   "cell_type": "code",
   "execution_count": 12,
   "id": "fa89561b-804f-438a-9449-86d56b8671e0",
   "metadata": {},
   "outputs": [
    {
     "name": "stdout",
     "output_type": "stream",
     "text": [
      "[1, 4, 9, 16, 25, 36, 49, 64, 81, 100]\n",
      "[2, 4, 6, 8, 10, 12, 14, 16, 18, 20]\n",
      "['hello', 'world', 'python']\n"
     ]
    }
   ],
   "source": [
    "squares=[x*x for x in range(1,11)]\n",
    "print(squares)\n",
    "evens=[x for x in range(1,21)if x % 2==0]\n",
    "print(evens)\n",
    "words=[\"hello\",\"world\",\"python\"]\n",
    "lowercase=[w.lower()for w in words]\n",
    "print(lowercase)\n"
   ]
  },
  {
   "cell_type": "code",
   "execution_count": null,
   "id": "e828b4be-de01-457b-97a8-cddf67468166",
   "metadata": {},
   "outputs": [],
   "source": [
    "lab work 3.3\n"
   ]
  },
  {
   "cell_type": "code",
   "execution_count": 13,
   "id": "0465a8f3-8630-487d-b9c0-7dfcd534fdce",
   "metadata": {},
   "outputs": [
    {
     "name": "stdout",
     "output_type": "stream",
     "text": [
      "True\n",
      "{1, 2, 4, 5, 6}\n"
     ]
    }
   ],
   "source": [
    "s={1,2,3,4,5}\n",
    "s.add(6)\n",
    "s.remove(3)\n",
    "print(2 in s)\n",
    "print(s)\n"
   ]
  },
  {
   "cell_type": "code",
   "execution_count": 14,
   "id": "f5570d99-882c-4be5-b40b-ac745d09aab9",
   "metadata": {},
   "outputs": [
    {
     "name": "stdout",
     "output_type": "stream",
     "text": [
      "union: {1, 2, 3, 4, 5, 6}\n",
      "intersection: {3, 4}\n",
      "difference: {1, 2}\n"
     ]
    }
   ],
   "source": [
    "set_a={1,2,3,4}\n",
    "set_b={3,4,5,6}\n",
    "print(\"union:\",set_a | set_b)\n",
    "print(\"intersection:\",set_a & set_b)\n",
    "print(\"difference:\",set_a-set_b)\n"
   ]
  },
  {
   "cell_type": "code",
   "execution_count": 18,
   "id": "c98baaf9-d310-443b-af4c-f2e9ffecd552",
   "metadata": {},
   "outputs": [
    {
     "name": "stdout",
     "output_type": "stream",
     "text": [
      "dict_keys(['name', 'age', 'grade'])\n",
      "dict_values(['alice', 20, 'A'])\n",
      "{'name': 'alice', 'age': 21, 'city': 'delhi'}\n"
     ]
    }
   ],
   "source": [
    "student={\"name\":\"alice\",\"age\":20,\"grade\":\"A\"}\n",
    "print(student.keys())\n",
    "print(student.values())\n",
    "student[\"city\"]=\"delhi\"\n",
    "student[\"age\"]= 21\n",
    "del student[\"grade\"]\n",
    "print(student)\n"
   ]
  },
  {
   "cell_type": "code",
   "execution_count": 24,
   "id": "bdd3dbbe-c113-44e8-a033-821d30bacad5",
   "metadata": {},
   "outputs": [
    {
     "ename": "NameError",
     "evalue": "name 'ditc' is not defined",
     "output_type": "error",
     "traceback": [
      "\u001b[1;31m---------------------------------------------------------------------------\u001b[0m",
      "\u001b[1;31mNameError\u001b[0m                                 Traceback (most recent call last)",
      "Cell \u001b[1;32mIn[24], line 3\u001b[0m\n\u001b[0;32m      1\u001b[0m keys\u001b[38;5;241m=\u001b[39m[\u001b[38;5;124m'\u001b[39m\u001b[38;5;124mid\u001b[39m\u001b[38;5;124m'\u001b[39m,\u001b[38;5;124m'\u001b[39m\u001b[38;5;124mname\u001b[39m\u001b[38;5;124m'\u001b[39m,\u001b[38;5;124m'\u001b[39m\u001b[38;5;124memail\u001b[39m\u001b[38;5;124m'\u001b[39m]\n\u001b[0;32m      2\u001b[0m values\u001b[38;5;241m=\u001b[39m[\u001b[38;5;241m101\u001b[39m,\u001b[38;5;124m'\u001b[39m\u001b[38;5;124mBOb\u001b[39m\u001b[38;5;124m'\u001b[39m,\u001b[38;5;124m'\u001b[39m\u001b[38;5;124mbob@example.com\u001b[39m\u001b[38;5;124m'\u001b[39m]\n\u001b[1;32m----> 3\u001b[0m dictionary \u001b[38;5;241m=\u001b[39m ditc(\u001b[38;5;28mzip\u001b[39m(keys,values))\n\u001b[0;32m      4\u001b[0m \u001b[38;5;28mprint\u001b[39m(dictionary)\n",
      "\u001b[1;31mNameError\u001b[0m: name 'ditc' is not defined"
     ]
    }
   ],
   "source": [
    "keys=['id','name','email']\n",
    "values=[101,'BOb','bob@example.com']\n",
    "dictionary  = d(zip(keys,values))\n",
    "print(dictionary)\n"
   ]
  },
  {
   "cell_type": "code",
   "execution_count": 22,
   "id": "dcc1ed96-bb8d-468c-8636-3b3eca40d0c7",
   "metadata": {},
   "outputs": [
    {
     "name": "stdout",
     "output_type": "stream",
     "text": [
      "123\n",
      "(1, 2, 3)\n",
      "[4, 5, 6]\n",
      "[(1, 'a'), (2, 'b')]\n"
     ]
    }
   ],
   "source": [
    "a=int('123')\n",
    "print(a)\n",
    "b=tuple([1,2,3])\n",
    "print(b)\n",
    "c=list((4,5,6))\n",
    "print(c)\n",
    "d=list([(1,'a'),(2,'b')])\n",
    "print(d)\n"
   ]
  },
  {
   "cell_type": "code",
   "execution_count": 23,
   "id": "afb40dc7-d321-4e7d-a84d-76e28cf7d70f",
   "metadata": {},
   "outputs": [
    {
     "name": "stdout",
     "output_type": "stream",
     "text": [
      "[10, 20, 40]\n"
     ]
    }
   ],
   "source": [
    "list=[10,20,30,40]\n",
    "del list[2]\n",
    "print(list)\n"
   ]
  },
  {
   "cell_type": "code",
   "execution_count": null,
   "id": "1d837be3-8b5e-4a8d-8d0a-f250412ec54e",
   "metadata": {},
   "outputs": [],
   "source": []
  }
 ],
 "metadata": {
  "kernelspec": {
   "display_name": "Python [conda env:base] *",
   "language": "python",
   "name": "conda-base-py"
  },
  "language_info": {
   "codemirror_mode": {
    "name": "ipython",
    "version": 3
   },
   "file_extension": ".py",
   "mimetype": "text/x-python",
   "name": "python",
   "nbconvert_exporter": "python",
   "pygments_lexer": "ipython3",
   "version": "3.13.5"
  }
 },
 "nbformat": 4,
 "nbformat_minor": 5
}
